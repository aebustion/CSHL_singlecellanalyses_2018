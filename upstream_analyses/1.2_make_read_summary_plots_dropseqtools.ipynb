{
 "cells": [
  {
   "cell_type": "code",
   "execution_count": null,
   "metadata": {},
   "outputs": [],
   "source": [
    "import dropseqtools_qc as dq\n",
    "import pandas as pd\n",
    "from tqdm import tnrange, tqdm_notebook"
   ]
  },
  {
   "cell_type": "code",
   "execution_count": null,
   "metadata": {},
   "outputs": [],
   "source": [
    "results_dir = \"/home/ucsd-train25/cshl_2018/dropseqtools_results_macosko/batch1_full/\"\n",
    "save_dir = \"/projects/ps-yeolab3/ecwheele/cshl_2018/test_macosko_full_batch1/\"\n",
    "bamfile = results_dir+\"12_my_clean.sorted.bam\""
   ]
  },
  {
   "cell_type": "markdown",
   "metadata": {},
   "source": [
    "Cell barcodes were counted in the last notebook, let's load up the dictoinary (pickle file) with the counts, and the cell barcodes we are interested in as a list. "
   ]
  },
  {
   "cell_type": "code",
   "execution_count": null,
   "metadata": {},
   "outputs": [],
   "source": [
    "cell_barcode_counts = dq.load_pickle(save_dir+\"cell_barcode_counts.pickle\")\n",
    "cell_barcodes = list(pd.read_csv(save_dir+\"cell_barcodes_to_keep.csv\", index_col=0).index)"
   ]
  },
  {
   "cell_type": "markdown",
   "metadata": {},
   "source": [
    "Using the list of cell barcodes we are interested in, count the number of UMIs that mapped to each gene per barcode."
   ]
  },
  {
   "cell_type": "code",
   "execution_count": null,
   "metadata": {},
   "outputs": [],
   "source": [
    "gene_counts = dq.count_umis_per_barcode(bamfile, cell_barcodes, save_dir+\"gene_counts_from_cells_called.pickle\")"
   ]
  },
  {
   "cell_type": "markdown",
   "metadata": {},
   "source": [
    "The pickle file of cell barcode counts that we loaded in the beginning had ALL cell barcode counts in it. Here we are only interested in the ones called as cells, so let's subset that maseter dictionary for just the ones that we care about. "
   ]
  },
  {
   "cell_type": "code",
   "execution_count": null,
   "metadata": {},
   "outputs": [],
   "source": [
    "cell_barcode_counts = dq.subset_cell_barcode_counts(cell_barcode_counts, cell_barcodes)"
   ]
  },
  {
   "cell_type": "markdown",
   "metadata": {},
   "source": [
    "Here we are getting the total number of UMIs per cell, as well as the total number of UMIs that mapped to genes. "
   ]
  },
  {
   "cell_type": "code",
   "execution_count": null,
   "metadata": {},
   "outputs": [],
   "source": [
    "dataframe = dq.summarize_counter_to_dataframe(gene_counts)\n",
    "all_umis = dq.get_umi_counts_per_barcode(dataframe, require_mapped=False)\n",
    "mapped_umis = dq.get_umi_counts_per_barcode(dataframe, require_mapped=True)"
   ]
  },
  {
   "cell_type": "markdown",
   "metadata": {},
   "source": [
    "Reformat into Tidy data!"
   ]
  },
  {
   "cell_type": "code",
   "execution_count": null,
   "metadata": {},
   "outputs": [],
   "source": [
    "tidy = dq.make_tidy_for_boxplot(cell_barcode_counts, all_umis, mapped_umis)"
   ]
  },
  {
   "cell_type": "markdown",
   "metadata": {},
   "source": [
    "Make a boxplot with the results"
   ]
  },
  {
   "cell_type": "code",
   "execution_count": null,
   "metadata": {},
   "outputs": [],
   "source": [
    "import seaborn as sns\n",
    "from matplotlib import pyplot as plt\n",
    "%matplotlib inline\n",
    "sns.boxplot(x='variable', y='value', data=tidy)\n",
    "plt.ylim([0,20000])"
   ]
  },
  {
   "cell_type": "code",
   "execution_count": null,
   "metadata": {},
   "outputs": [],
   "source": [
    "import seaborn as sns\n",
    "%matplotlib inline\n",
    "sns.boxplot(x='variable', y='log2_value', data=tidy)"
   ]
  }
 ],
 "metadata": {
  "kernelspec": {
   "display_name": "(cmm262-py3)",
   "language": "python",
   "name": "python3"
  },
  "language_info": {
   "codemirror_mode": {
    "name": "ipython",
    "version": 3
   },
   "file_extension": ".py",
   "mimetype": "text/x-python",
   "name": "python",
   "nbconvert_exporter": "python",
   "pygments_lexer": "ipython3",
   "version": "3.6.5"
  }
 },
 "nbformat": 4,
 "nbformat_minor": 2
}
