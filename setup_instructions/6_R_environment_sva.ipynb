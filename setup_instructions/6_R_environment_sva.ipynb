{
 "cells": [
  {
   "cell_type": "markdown",
   "metadata": {},
   "source": [
    "## Download and Install SVA for batch correction with ComBat"
   ]
  },
  {
   "cell_type": "markdown",
   "metadata": {},
   "source": [
    "```bash\n",
    "conda create -n sva\n",
    "source activate sva\n",
    "conda install -c r r-base=3.4\n",
    "conda install -c r-irkernel\n",
    "```\n",
    "\n",
    "Now move into ```R``` for the following commands: \n",
    "\n",
    "```bash\n",
    "R\n",
    "source(\"http://bioconductor.org/biocLite.R\")\n",
    "biocLite(\"sva\")\n",
    "IRkernel::installspec(displayname=“sva”)\n",
    "quit()\n",
    "```\n",
    "\n",
    "All done!\n",
    "```\n",
    "bash\n",
    "source deactivate\n",
    "```\n",
    "\n",
    "Now check jupyter to make sure a new kernel has been installed from the sva environment."
   ]
  }
 ],
 "metadata": {
  "kernelspec": {
   "display_name": "python2-base",
   "language": "python",
   "name": "python2"
  },
  "language_info": {
   "codemirror_mode": {
    "name": "ipython",
    "version": 2
   },
   "file_extension": ".py",
   "mimetype": "text/x-python",
   "name": "python",
   "nbconvert_exporter": "python",
   "pygments_lexer": "ipython2",
   "version": "2.7.12"
  }
 },
 "nbformat": 4,
 "nbformat_minor": 2
}
